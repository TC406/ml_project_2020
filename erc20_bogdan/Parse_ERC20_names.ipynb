{
 "cells": [
  {
   "cell_type": "markdown",
   "metadata": {},
   "source": [
    "## Parsing all ERC20 token names from [EIDOO]('https://eidoo.io/erc20-tokens-list?6203b98c_page=1')"
   ]
  },
  {
   "cell_type": "code",
   "execution_count": 1,
   "metadata": {},
   "outputs": [],
   "source": [
    "from lxml import html # To represent the structure of requested page\n",
    "import requests # To request demanded page\n",
    "from bs4 import BeautifulSoup"
   ]
  },
  {
   "cell_type": "code",
   "execution_count": 23,
   "metadata": {},
   "outputs": [],
   "source": []
  },
  {
   "cell_type": "code",
   "execution_count": 2,
   "metadata": {},
   "outputs": [],
   "source": [
    "%store -r binance_erc20"
   ]
  },
  {
   "cell_type": "code",
   "execution_count": 3,
   "metadata": {},
   "outputs": [],
   "source": [
    "loaded_erc20 = list(map(lambda x: x.split('/')[0].lower(), binance_erc20))"
   ]
  },
  {
   "cell_type": "code",
   "execution_count": 4,
   "metadata": {
    "collapsed": true
   },
   "outputs": [
    {
     "data": {
      "text/plain": [
       "['mco',\n",
       " 'wtc',\n",
       " 'lrc',\n",
       " 'omg',\n",
       " 'zrx',\n",
       " 'sngls',\n",
       " 'knc',\n",
       " 'fun',\n",
       " 'snm',\n",
       " 'link',\n",
       " 'salt',\n",
       " 'mda',\n",
       " 'mtl',\n",
       " 'sub',\n",
       " 'snt',\n",
       " 'mth',\n",
       " 'eng',\n",
       " 'dnt',\n",
       " 'bnt',\n",
       " 'ast',\n",
       " 'oax',\n",
       " 'evx',\n",
       " 'req',\n",
       " 'vib',\n",
       " 'powr',\n",
       " 'enj',\n",
       " 'storj',\n",
       " 'rcn',\n",
       " 'rdn',\n",
       " 'dlt',\n",
       " 'amb',\n",
       " 'bat',\n",
       " 'bcpt',\n",
       " 'arn',\n",
       " 'gvt',\n",
       " 'cdt',\n",
       " 'poe',\n",
       " 'qsp',\n",
       " 'tnt',\n",
       " 'fuel',\n",
       " 'mana',\n",
       " 'dgd',\n",
       " 'adx',\n",
       " 'ppt',\n",
       " 'cnd',\n",
       " 'lend',\n",
       " 'wabi',\n",
       " 'tnb',\n",
       " 'gto',\n",
       " 'ost',\n",
       " 'elf',\n",
       " 'brd',\n",
       " 'edo',\n",
       " 'wings',\n",
       " 'lun',\n",
       " 'appc',\n",
       " 'vibe',\n",
       " 'rlc',\n",
       " 'ins',\n",
       " 'iost',\n",
       " 'blz',\n",
       " 'ncash',\n",
       " 'zil',\n",
       " 'storm',\n",
       " 'wpr',\n",
       " 'gnt',\n",
       " 'loom',\n",
       " 'rep',\n",
       " 'tusd',\n",
       " 'cvc',\n",
       " 'iotx',\n",
       " 'qkc',\n",
       " 'agi',\n",
       " 'data',\n",
       " 'npxs',\n",
       " 'key',\n",
       " 'mft',\n",
       " 'dent',\n",
       " 'hot',\n",
       " 'dock',\n",
       " 'poly',\n",
       " 'pax',\n",
       " 'mith',\n",
       " 'ren',\n",
       " 'fet',\n",
       " 'celr',\n",
       " 'ftm',\n",
       " 'ankr',\n",
       " 'nkn',\n",
       " 'stx',\n",
       " 'ctxc',\n",
       " 'vite',\n",
       " 'ftt',\n",
       " 'tct',\n",
       " 'lto']"
      ]
     },
     "execution_count": 4,
     "metadata": {},
     "output_type": "execute_result"
    }
   ],
   "source": [
    "loaded_erc20"
   ]
  },
  {
   "cell_type": "code",
   "execution_count": 7,
   "metadata": {},
   "outputs": [
    {
     "name": "stdout",
     "output_type": "stream",
     "text": [
      "bat  :  0x0d8775f648430679a709e98d2b0cb6250d2887ef\n",
      "tusd  :  0x0000000000085d4780B73119b644AE5ecd22b376\n",
      "rep  :  0x1985365e9f78359a9b6ad760e32412f4a445e862\n",
      "omg  :  0xd26114cd6EE289AccF82350c8d8487fedB8A0C07\n",
      "link  :  0x514910771af9ca656af840dff83e8264ecf986ca\n",
      "pax  :  0x8e870d67f660d95d5be530380d0ec0bd388289e1\n",
      "hot  :  0x6c6ee5e31d828de241282b9606c8e98ea48526e2\n",
      "zrx  :  0xe41d2489571d322189246dafa5ebde1f4699f498\n",
      "zil  :  0x05f4a42e251f2d52b8ed15e9fedaacfcef1fad27\n",
      "npxs  :  0xa15c7ebe1f07caf6bff097d8a589fb8ac49ae5b3\n",
      "iost  :  0xfa1a856cfa3409cfa145fa4e20eb270df3eb21ab\n",
      "enj  :  0xf629cbd94d3791c9250152bd8dfbdf380e2a3b9c\n",
      "wtc  :  0xb7cb1c96db6b22b0d3d9536e0108d062bd488f74\n",
      "mco  :  0xb63b606ac810a52cca15e44bb630fd42d8d1d83d\n",
      "snt  :  0x744d70fdbe2ba4cf95131626614a1763df805b9e\n",
      "gnt  :  0xa74476443119A942dE498590Fe1f2454d7D4aC0d\n",
      "dgd  :  0xe0b7927c4af23765cb51314a0e0521a9645f0e2a\n",
      "elf  :  0xbf2179859fc6d5bee9bf9158632dc51678a4100e\n",
      "ppt  :  0xd4fa1460f537bb9085d22c7bccb5dd450ef28e3a\n",
      "mana  :  0x0f5d2fb29fb7d3cfee444a200298f468908cc942\n",
      "loom  :  0xa4e8c3ec456107ea67d3075bf9e3df3a75823db0\n",
      "lrc  :  0xef68e7c694f40c8202821edf525de3782458639f\n",
      "dent  :  0x3597bfd533a99c9aa083587b074434e61eb0a258\n",
      "rlc  :  0x607f4c5bb672230e8672085532f7e901544a7375\n",
      "powr  :  0x595832f8fc6bf59c85c527fec3740a1b7a361269\n",
      "knc  :  0xdd974d5c2e2928dea5f71b9825b8b646686bd200\n",
      "fun  :  0x419d0d8bdd9af5e606ae2232ed285aff190e711b\n",
      "bnt  :  0x1f573d6fb3f13d689ff844b4ce37794d79a7ff1c\n",
      "poly  :  0x9992ec3cf6a55b00978cddf2b27bc6882d88d1ec\n",
      "brd  :  0x558ec3152e2eb2174905cd19aea4e34a23de9ad6\n",
      "storj  :  0xb64ef51c888972c908cfacf59b47c1afbc0ab8ac\n",
      "iotx  :  0x6fb3e0a217407efff7ca062d46c26e5d60a14d69\n",
      "eng  :  0xf0ee6b27b759c9893ce4f094b49ad28fd15a23e4\n",
      "qkc  :  0xea26c4ac16d4a5a106820bc8aee85fd0b7b2b664\n",
      "mft  :  0xdf2c7238198ad8b389666574f2d8bc411a4b7428\n",
      "cnd  :  0xd4c435f5b09f855c3317c8524cb1f586e42795fa\n",
      "cvc  :  0x41e5560054824ea6b0732e656e3ad64e20e94e45\n",
      "celr  :  0x4f9254c83eb525f9fcf346490bbb3ed28a81c667\n",
      "agi  :  0x8eb24319393716668d768dcec29356ae9cffe285\n",
      "tct  :  0x4824a7b64e3966b0133f4f4ffb1b9d6beb75fff7\n",
      "ctxc  :  0xea11755ae41d889ceec39a63e6ff75a02bc1c00d\n",
      "mith  :  0x3893b9422cd5d70a81edeffe3d5a1c6a978310bb\n",
      "mtl  :  0xF433089366899D83a9f26A773D59ec7eCF30355e\n",
      "mda  :  0x51db5ad35c671a87207d88fc11d593ac0c8415bd\n",
      "wabi  :  0x286bda1413a2df81731d4930ce2f862a35a609fe\n",
      "ankr  :  0x8290333ceF9e6D528dD5618Fb97a76f268f3EDD4\n",
      "edo  :  0xced4e93198734ddaff8492d525bd258d49eb388e\n",
      "evx  :  0xf3db5fa2c66b7af3eb0c0b782510816cbe4813b8\n",
      "ren  :  0x408e41876cccdc0f92210600ef50372656052a38\n",
      "gto  :  0xc5bbae50781be1669306b9e001eff57a2957b09d\n",
      "storm  :  0xd0a4b8946cb52f0661273bfbc6fd0e0c75fc6433\n",
      "ftm  :  0x4e15361fd6b4bb609fa63c81a2be19d873717870\n",
      "rdn  :  0x255aa6df07540cb5d3d297f0d0d4d84cb52bc8e6\n",
      "req  :  0x8f8221afbb33998d8584a2b05749ba73c37a938a\n",
      "nkn  :  0x5cf04716ba20127f1e2297addcf4b5035000c9eb\n",
      "gvt  :  0x103c3a209da59d3e7c4a89307e66521e081cfdf0\n",
      "ost  :  0x2c4e8f2d746113d0696ce89b35f0d8bf88e0aeca\n",
      "poe  :  0x0e0989b1f9b8a38983c2ba8053269ca62ec9b195\n",
      "oax  :  0x701c244b988a513c945973defa05de933b23fe1d\n",
      "tnb  :  0xf7920b0768ecb20a123fac32311d07d193381d6f\n",
      "rcn  :  0xf970b8e36e23f7fc3fd752eea86f8be8d83375a6\n",
      "qsp  :  0x99ea4db9ee77acd40b119bd1dc4e33e1c070b80d\n",
      "data  :  0x0cf0ee63788a0849fe5297f3407f701e122cc023\n",
      "ncash  :  0x809826cceab68c387726af962713b64cb5cb3cca\n",
      "vibe  :  0xe8ff5c9c75deb346acac493c463c8950be03dfba\n",
      "adx  :  0x4470bb87d77b963a013db939be332f927f2b992e\n",
      "blz  :  0x5732046a883704404f284ce41ffadd5b007fd668\n",
      "sub  :  0x8D75959f1E61EC2571aa72798237101F084DE63a\n",
      "fet  :  0x1d287cc25dad7ccaf76a26bc660c5f7c8e2a05bd\n",
      "ins  :  0x5b2e4a700dfbc560061e957edec8f6eeeb74a320\n",
      "vite  :  0x1b793E49237758dBD8b752AFC9Eb4b329d5Da016\n",
      "sngls  :  0xaec2e87e0a235266d9c5adc9deb4b2e29b54d009\n",
      "dnt  :  0x0abdace70d3790235af448c88547603b945604ea\n",
      "salt  :  0x4156d3342d5c385a87d264f90653733592000581\n",
      "dlt  :  0x07e3c70653548b04f0a75970c1f81b4cbbfb606f\n",
      "lend  :  0x80fb784b7ed66730e8b1dbd9820afd29931aab03\n",
      "snm  :  0x983f6d60db79ea8ca4eb9968c6aff8cfa04b3c63\n",
      "arn  :  0xBA5F11b16B155792Cf3B2E6880E8706859A8AEB6\n",
      "vib  :  0x2c974b2d0ba1716e644c1fc59982a89ddd2ff724\n",
      "key  :  0x4cc19356f2d37338b9802aa8e8fc58b0373296e7\n",
      "appc  :  0x1a7a8bd9106f2b8d977e08582dc7d24c723ab0db\n",
      "tnt  :  0x08f5a9235b08173b7569f83645d2c7fb55e8ccd8\n",
      "mth  :  0xaf4dce16da2877f8c9e00544c93b62ac40631f16\n",
      "wpr  :  0x4CF488387F035FF08c371515562CBa712f9015d4\n",
      "cdt  :  0x177d39ac676ed1c67a2b268ad7f1e58826e5b0af\n",
      "fuel  :  0xea38eaa3c86c8f9b751533ba2e562deb9acded40\n",
      "ast  :  0x27054b13b1b798b345b591a4d22e6562d47ea75a\n",
      "dock  :  0xe5dada80aa6477e85d09747f2842f7993d0df71c\n",
      "lun  :  0xfa05A73FfE78ef8f1a739473e462c54bae6567D9\n",
      "bcpt  :  0x1c4481750daa5ff521a2a7490d9981ed46465dbd\n",
      "amb  :  0x4dc3643dbc642b72c158e7f3d2ff232df61cb6ce\n",
      "wings  :  0x667088b212ce3d06a1b553a7221E1fD19000d9aF\n",
      "hot  :  0x9af839687f6c94542ac5ece2e317daae355493a1\n",
      "lto  :  0x3db6ba6ab6f95efed1a6e794cad492faaabf294d\n",
      "ftt  :  0x2aec18c5500f21359ce1bea5dc1777344df4c0dc\n",
      "stx  :  0x006bea43baa3f7a6f765f14f10a1a1b08334ef45\n"
     ]
    }
   ],
   "source": [
    "site = 'https://eidoo.io/'\n",
    "\n",
    "erc20_contracts = {}\n",
    "\n",
    "for j in range(1, 6):\n",
    "\n",
    "    link = 'https://eidoo.io/erc20-tokens-list?6203b98c_page=' + str(j)\n",
    "    html = requests.get(link).text\n",
    "    bs = BeautifulSoup(html, 'lxml')\n",
    "\n",
    "    for i in bs.find_all('a', class_=\"w-inline-block\"):\n",
    "        scraped_href = i.get('href')\n",
    "        if 'erc20-tokens-list' in scraped_href:\n",
    "            token_page = requests.get(site + scraped_href)\n",
    "\n",
    "            bs = BeautifulSoup(token_page.text)\n",
    "            contract = bs.find('p', class_='caption light shrink').get_text()\n",
    "            \n",
    "            token_name = scraped_href.split('-')[-1]\n",
    "            if token_name in loaded_erc20:\n",
    "                print(token_name, ' : ', contract)\n",
    "                erc20_contracts[token_name] = contract\n",
    "    "
   ]
  },
  {
   "cell_type": "code",
   "execution_count": 14,
   "metadata": {},
   "outputs": [],
   "source": [
    "contracts = pd.DataFrame(data=erc20_contracts.values(), index=erc20_contracts.keys())"
   ]
  },
  {
   "cell_type": "code",
   "execution_count": 16,
   "metadata": {},
   "outputs": [],
   "source": [
    "contracts.to_csv('erc20_contracts_pandas.txt')"
   ]
  },
  {
   "cell_type": "code",
   "execution_count": 10,
   "metadata": {},
   "outputs": [],
   "source": [
    "import pandas as pd"
   ]
  },
  {
   "cell_type": "code",
   "execution_count": null,
   "metadata": {},
   "outputs": [],
   "source": [
    "pd.fro"
   ]
  },
  {
   "cell_type": "code",
   "execution_count": 47,
   "metadata": {},
   "outputs": [
    {
     "data": {
      "text/plain": [
       "[]"
      ]
     },
     "execution_count": 47,
     "metadata": {},
     "output_type": "execute_result"
    }
   ],
   "source": [
    "contract"
   ]
  },
  {
   "cell_type": "code",
   "execution_count": 5,
   "metadata": {},
   "outputs": [
    {
     "ename": "XPathEvalError",
     "evalue": "Invalid expression",
     "output_type": "error",
     "traceback": [
      "\u001b[0;31m---------------------------------------------------------------------------\u001b[0m",
      "\u001b[0;31mXPathEvalError\u001b[0m                            Traceback (most recent call last)",
      "\u001b[0;32m<ipython-input-5-56f73d959c5a>\u001b[0m in \u001b[0;36m<module>\u001b[0;34m\u001b[0m\n\u001b[1;32m     11\u001b[0m     \u001b[0mtop500_erc20\u001b[0m \u001b[0;34m+=\u001b[0m \u001b[0mtokens_name\u001b[0m\u001b[0;34m\u001b[0m\u001b[0;34m\u001b[0m\u001b[0m\n\u001b[1;32m     12\u001b[0m \u001b[0;34m\u001b[0m\u001b[0m\n\u001b[0;32m---> 13\u001b[0;31m     \u001b[0mtoken_page\u001b[0m \u001b[0;34m=\u001b[0m \u001b[0mtree\u001b[0m\u001b[0;34m.\u001b[0m\u001b[0mxpath\u001b[0m\u001b[0;34m(\u001b[0m\u001b[0;34m'//div[@class=\"w-inline-block\"]/href()'\u001b[0m\u001b[0;34m)\u001b[0m\u001b[0;34m\u001b[0m\u001b[0;34m\u001b[0m\u001b[0m\n\u001b[0m\u001b[1;32m     14\u001b[0m \u001b[0;34m\u001b[0m\u001b[0m\n",
      "\u001b[0;32msrc/lxml/etree.pyx\u001b[0m in \u001b[0;36mlxml.etree._Element.xpath\u001b[0;34m()\u001b[0m\n",
      "\u001b[0;32msrc/lxml/xpath.pxi\u001b[0m in \u001b[0;36mlxml.etree.XPathElementEvaluator.__call__\u001b[0;34m()\u001b[0m\n",
      "\u001b[0;32msrc/lxml/xpath.pxi\u001b[0m in \u001b[0;36mlxml.etree._XPathEvaluatorBase._handle_result\u001b[0;34m()\u001b[0m\n",
      "\u001b[0;31mXPathEvalError\u001b[0m: Invalid expression"
     ]
    }
   ],
   "source": [
    "link = 'https://eidoo.io/erc20-tokens-list?6203b98c_page=' # Link template without the page number\n",
    "\n",
    "top500_erc20 = []\n",
    "contract_adrs = []\n",
    "\n",
    "for page_number in range(1, 6): # On this pages tokens with marketcap > $million\n",
    "    page = requests.get(link+str(page_number))\n",
    "    tree = html.fromstring(page.content)\n",
    "    tokens_name = tree.xpath('//div[@class=\"body dark erc20-tokens-list-item-name mr-8 lightweight\"]/text()')\n",
    "    \n",
    "    top500_erc20 += tokens_name\n",
    "    \n",
    "    token_page = tree.xpath('//div[@class=\"w-inline-block\"]/href()')\n",
    "    "
   ]
  },
  {
   "cell_type": "code",
   "execution_count": 6,
   "metadata": {},
   "outputs": [],
   "source": [
    "page = requests.get(link+str(page_number))\n",
    "tree = html.fromstring(page.content)"
   ]
  },
  {
   "cell_type": "code",
   "execution_count": 15,
   "metadata": {},
   "outputs": [
    {
     "ename": "XPathEvalError",
     "evalue": "Invalid expression",
     "output_type": "error",
     "traceback": [
      "\u001b[0;31m---------------------------------------------------------------------------\u001b[0m",
      "\u001b[0;31mXPathEvalError\u001b[0m                            Traceback (most recent call last)",
      "\u001b[0;32m<ipython-input-15-b9310215a7de>\u001b[0m in \u001b[0;36m<module>\u001b[0;34m\u001b[0m\n\u001b[0;32m----> 1\u001b[0;31m \u001b[0mtree\u001b[0m\u001b[0;34m.\u001b[0m\u001b[0mxpath\u001b[0m\u001b[0;34m(\u001b[0m\u001b[0;34m'//div[@data-w-id=\"3fb1ad6c-cb07-1df6-6306-ea70ebb7b06f\"]/'\u001b[0m\u001b[0;34m)\u001b[0m\u001b[0;34m\u001b[0m\u001b[0;34m\u001b[0m\u001b[0m\n\u001b[0m",
      "\u001b[0;32msrc/lxml/etree.pyx\u001b[0m in \u001b[0;36mlxml.etree._Element.xpath\u001b[0;34m()\u001b[0m\n",
      "\u001b[0;32msrc/lxml/xpath.pxi\u001b[0m in \u001b[0;36mlxml.etree.XPathElementEvaluator.__call__\u001b[0;34m()\u001b[0m\n",
      "\u001b[0;32msrc/lxml/xpath.pxi\u001b[0m in \u001b[0;36mlxml.etree._XPathEvaluatorBase._handle_result\u001b[0;34m()\u001b[0m\n",
      "\u001b[0;31mXPathEvalError\u001b[0m: Invalid expression"
     ]
    }
   ],
   "source": [
    "tree.xpath('//div[@class=\"w-inline-block\"]/')"
   ]
  },
  {
   "cell_type": "code",
   "execution_count": 14,
   "metadata": {},
   "outputs": [
    {
     "data": {
      "text/plain": [
       "500"
      ]
     },
     "execution_count": 14,
     "metadata": {},
     "output_type": "execute_result"
    }
   ],
   "source": [
    "len(top500_erc20)"
   ]
  },
  {
   "cell_type": "code",
   "execution_count": 17,
   "metadata": {},
   "outputs": [],
   "source": [
    "import numpy as np\n",
    "import pandas as pd"
   ]
  },
  {
   "cell_type": "code",
   "execution_count": 18,
   "metadata": {},
   "outputs": [],
   "source": [
    "df = pd.DataFrame(top500_erc20)"
   ]
  },
  {
   "cell_type": "code",
   "execution_count": 22,
   "metadata": {},
   "outputs": [],
   "source": [
    "df.to_csv('top500_erc20.txt')"
   ]
  },
  {
   "cell_type": "code",
   "execution_count": null,
   "metadata": {},
   "outputs": [],
   "source": []
  }
 ],
 "metadata": {
  "kernelspec": {
   "display_name": "Python 3",
   "language": "python",
   "name": "python3"
  },
  "language_info": {
   "codemirror_mode": {
    "name": "ipython",
    "version": 3
   },
   "file_extension": ".py",
   "mimetype": "text/x-python",
   "name": "python",
   "nbconvert_exporter": "python",
   "pygments_lexer": "ipython3",
   "version": "3.6.9"
  }
 },
 "nbformat": 4,
 "nbformat_minor": 2
}
